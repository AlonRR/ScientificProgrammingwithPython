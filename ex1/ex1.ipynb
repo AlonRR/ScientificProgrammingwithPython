{
 "cells": [
  {
   "cell_type": "code",
   "execution_count": null,
   "metadata": {},
   "outputs": [
    {
     "name": "stdout",
     "output_type": "stream",
     "text": [
      "(3, 4)\n",
      "True\n"
     ]
    }
   ],
   "source": [
    "class Point:\n",
    "    # constructor\n",
    "    def __init__(self, x = 0 , y = 0):\n",
    "        if type(x) not in [int, float] or type(y) not in [int, float]:\n",
    "            raise TypeError('x and y must be int or float')\n",
    "        self.x = x\n",
    "        self.y = y\n",
    "\n",
    "    # print\n",
    "    def __str__(self):\n",
    "        return f'({self.x}, {self.y})'\n",
    "\n",
    "    # if equal to other\n",
    "    def __eq__(self, other):\n",
    "        if type(other) != type(self):\n",
    "            return False\n",
    "        return self.x == other.x and self.y == other.y\n",
    "\n",
    "    # add two points\n",
    "    def __add__(self, other):\n",
    "        if type(other) == type(self):\n",
    "            return Point(self.x + other.x, self.y + other.y)\n",
    "        if type(other) in [int, float]:\n",
    "            return Point(self.x + other, self.y + other)\n",
    "        raise TypeError('other must be a Point, int, or float')\n",
    "\n",
    "    # subtract two points\n",
    "    def __sub__(self, other):\n",
    "        if type(other) != type(self):\n",
    "            raise TypeError('other must be a Point')\n",
    "        return Point(self.x - other.x, self.y - other.y)\n",
    "\n",
    "    # get x or y\n",
    "    def __getitem__(self, index):\n",
    "        if index == 0 or index == 'x' or index == 'X':\n",
    "            return self.x\n",
    "        if index == 1 or index == 'y' or index == 'Y':\n",
    "            return self.y\n",
    "        raise IndexError('Index out of range')\n",
    "\n",
    "    # multiply by scalar\n",
    "    def __mul__(self, scalar):\n",
    "        if type(scalar) not in [int, float]:\n",
    "            raise TypeError('scalar must be an int or float')\n",
    "        return Point(self.x * scalar, self.y * scalar)\n",
    "\n",
    "    # iterate over x and y\n",
    "    def __iter__(self):\n",
    "        return [self.x, self.y].__iter__()\n",
    "\n",
    "    # get length\n",
    "    def __len__(self):\n",
    "        return 2\n",
    "\n",
    "    # get distance from origin\n",
    "    def distance_from_origin(self):\n",
    "        return (self.x ** 2 + self.y ** 2) ** 0.5"
   ]
  }
 ],
 "metadata": {
  "kernelspec": {
   "display_name": "Python 3",
   "language": "python",
   "name": "python3"
  },
  "language_info": {
   "codemirror_mode": {
    "name": "ipython",
    "version": 3
   },
   "file_extension": ".py",
   "mimetype": "text/x-python",
   "name": "python",
   "nbconvert_exporter": "python",
   "pygments_lexer": "ipython3",
   "version": "3.12.7"
  }
 },
 "nbformat": 4,
 "nbformat_minor": 2
}
